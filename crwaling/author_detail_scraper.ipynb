{
 "cells": [
  {
   "cell_type": "code",
   "execution_count": 1,
   "metadata": {
    "scrolled": true
   },
   "outputs": [],
   "source": [
    "import cloudscraper\n",
    "from bs4 import BeautifulSoup\n",
    "import requests\n",
    "import pandas as pd\n",
    "import numpy as np\n",
    "import re"
   ]
  },
  {
   "cell_type": "code",
   "execution_count": 2,
   "metadata": {},
   "outputs": [],
   "source": [
    "from tqdm import tqdm"
   ]
  },
  {
   "cell_type": "code",
   "execution_count": 3,
   "metadata": {
    "colab": {
     "base_uri": "https://localhost:8080/",
     "height": 306
    },
    "executionInfo": {
     "elapsed": 8,
     "status": "error",
     "timestamp": 1643171758355,
     "user": {
      "displayName": "Chung Ching Wong",
      "photoUrl": "https://lh3.googleusercontent.com/a/default-user=s64",
      "userId": "13376823771419181326"
     },
     "user_tz": -480
    },
    "id": "FmlsKYXrJa4q",
    "outputId": "dd99b5ca-9ae6-4437-ec69-c82f98645f71"
   },
   "outputs": [],
   "source": [
    "def scrap():\n",
    "    authors = [] #store the song names\n",
    "    detail = []\n",
    "    scraper = cloudscraper.create_scraper()\n",
    "    for j in tqdm(range(1, 51187)): #51186\n",
    "        try:\n",
    "            url = \"https://www.yes24.com/24/AuthorFile/Author/\"+str(j)\n",
    "            r= scraper.get(url)\n",
    "            soup=BeautifulSoup(r.text,\"html.parser\")\n",
    "\n",
    "            #start extracting info\n",
    "            #all info are inside <tbody> </tbody>\n",
    "            #inside <tbody>, EACH song is encapsulated in a <tr></tr>\n",
    "            #inside <tr>,  the song name and singer is encapsulated inside <td class=\"chart-table-track\">: <strong> encapsulates the song name\n",
    "                                                               #   <span> encapsulates the singer\n",
    "            #inside <tr>,  <td class_=\"chart-table-streams\"> stores the streams \n",
    "            authors.append(soup.select_one('#wrapperContent span:nth-child(1)').text)\n",
    "            whole_table = soup.select('table[width=\"150\"] td[height=\"20\"]')\n",
    "\n",
    "            ls = []\n",
    "            for i in whole_table:\n",
    "                ls.append(i.text)\n",
    "            detail.append(ls)\n",
    "\n",
    "        except:\n",
    "            authors.append('')\n",
    "            detail.append(['','','','',''])\n",
    "        \n",
    "    return authors,detail\n",
    "\n",
    "\n",
    "##########################################\n",
    "#put the result into a csv file\n",
    "##########################################\n",
    "# data = scrap(weeks)\n",
    "# df = pd.DataFrame(np.column_stack(data),columns=['date','song','singer','streams','url_list'])\n",
    "# df.to_csv('2022_kr.csv',index=False)\n",
    "# print(\"Done!\")\n"
   ]
  },
  {
   "cell_type": "code",
   "execution_count": 4,
   "metadata": {
    "id": "8tPwixNrqyr0",
    "scrolled": false
   },
   "outputs": [
    {
     "name": "stderr",
     "output_type": "stream",
     "text": [
      "100%|██████████████████████████████████████████████████████████████████████████| 51186/51186 [1:41:55<00:00,  8.37it/s]\n"
     ]
    }
   ],
   "source": [
    "data = scrap()"
   ]
  },
  {
   "cell_type": "markdown",
   "metadata": {},
   "source": [
    "## 데이터 전처리"
   ]
  },
  {
   "cell_type": "code",
   "execution_count": 6,
   "metadata": {},
   "outputs": [
    {
     "name": "stderr",
     "output_type": "stream",
     "text": [
      "C:\\Users\\jsyu\\anaconda3\\envs\\bworm\\lib\\site-packages\\numpy\\lib\\shape_base.py:652: VisibleDeprecationWarning: Creating an ndarray from ragged nested sequences (which is a list-or-tuple of lists-or-tuples-or ndarrays with different lengths or shapes) is deprecated. If you meant to do this, you must specify 'dtype=object' when creating the ndarray.\n",
      "  arr = asanyarray(v)\n"
     ]
    }
   ],
   "source": [
    "df = pd.DataFrame(np.column_stack(data),columns=['authors','detail'])"
   ]
  },
  {
   "cell_type": "code",
   "execution_count": 16,
   "metadata": {},
   "outputs": [],
   "source": [
    "df = df[df.authors!='']"
   ]
  },
  {
   "cell_type": "code",
   "execution_count": 35,
   "metadata": {},
   "outputs": [
    {
     "name": "stderr",
     "output_type": "stream",
     "text": [
      "C:\\Users\\jsyu\\AppData\\Local\\Temp\\ipykernel_16112\\99541381.py:1: SettingWithCopyWarning: \n",
      "A value is trying to be set on a copy of a slice from a DataFrame.\n",
      "Try using .loc[row_indexer,col_indexer] = value instead\n",
      "\n",
      "See the caveats in the documentation: https://pandas.pydata.org/pandas-docs/stable/user_guide/indexing.html#returning-a-view-versus-a-copy\n",
      "  df['born'] = df.detail.apply(lambda x : x[0] if x[0].startswith(\"출생 :\") else '출생 : ')\n"
     ]
    }
   ],
   "source": [
    "df['born'] = df.detail.apply(lambda x : x[0] if x[0].startswith(\"출생 :\") else '출생 : ')"
   ]
  },
  {
   "cell_type": "code",
   "execution_count": 46,
   "metadata": {},
   "outputs": [
    {
     "name": "stderr",
     "output_type": "stream",
     "text": [
      "C:\\Users\\jsyu\\AppData\\Local\\Temp\\ipykernel_16112\\3989778922.py:1: SettingWithCopyWarning: \n",
      "A value is trying to be set on a copy of a slice from a DataFrame.\n",
      "Try using .loc[row_indexer,col_indexer] = value instead\n",
      "\n",
      "See the caveats in the documentation: https://pandas.pydata.org/pandas-docs/stable/user_guide/indexing.html#returning-a-view-versus-a-copy\n",
      "  df['death'] = df.detail.apply(lambda x : x[0] if x[0].startswith(\"사망 :\") else ( x[1] if x[1].startswith(\"사망 :\") else '사망 : '))\n"
     ]
    }
   ],
   "source": [
    "df['death'] = df.detail.apply(lambda x : x[0] if x[0].startswith(\"사망 :\") else ( x[1] if x[1].startswith(\"사망 :\") else '사망 : '))"
   ]
  },
  {
   "cell_type": "code",
   "execution_count": 64,
   "metadata": {},
   "outputs": [
    {
     "name": "stderr",
     "output_type": "stream",
     "text": [
      "C:\\Users\\jsyu\\AppData\\Local\\Temp\\ipykernel_16112\\3428908940.py:1: SettingWithCopyWarning: \n",
      "A value is trying to be set on a copy of a slice from a DataFrame.\n",
      "Try using .loc[row_indexer,col_indexer] = value instead\n",
      "\n",
      "See the caveats in the documentation: https://pandas.pydata.org/pandas-docs/stable/user_guide/indexing.html#returning-a-view-versus-a-copy\n",
      "  df['born_area'] = df.detail.apply(lambda x : (x[0] if x[0].startswith(\"출생지 :\") else ( x[1] if x[1].startswith(\"출생지 :\") else ( x[2] if x[2].startswith(\"출생지 :\") else '출생지 : '))))\n"
     ]
    }
   ],
   "source": [
    "df['born_area'] = df.detail.apply(lambda x : (x[0] if x[0].startswith(\"출생지 :\") else ( x[1] if x[1].startswith(\"출생지 :\") else ( x[2] if x[2].startswith(\"출생지 :\") else '출생지 : '))))"
   ]
  },
  {
   "cell_type": "code",
   "execution_count": 69,
   "metadata": {},
   "outputs": [
    {
     "name": "stderr",
     "output_type": "stream",
     "text": [
      "C:\\Users\\jsyu\\AppData\\Local\\Temp\\ipykernel_16112\\914231354.py:1: SettingWithCopyWarning: \n",
      "A value is trying to be set on a copy of a slice from a DataFrame.\n",
      "Try using .loc[row_indexer,col_indexer] = value instead\n",
      "\n",
      "See the caveats in the documentation: https://pandas.pydata.org/pandas-docs/stable/user_guide/indexing.html#returning-a-view-versus-a-copy\n",
      "  df['sex'] = df.detail.apply(lambda x : (x[1] if x[1].startswith(\"성별 :\") else '성별 :' )if len(x)<=3 else (x[2] if x[2].startswith(\"성별 :\") else ( x[3] if x[3].startswith(\"성별 :\") else ( x[4] if x[4].startswith(\"성별 :\") else '성별 : '))))\n"
     ]
    }
   ],
   "source": [
    "df['sex'] = df.detail.apply(lambda x : (x[1] if x[1].startswith(\"성별 :\") else '성별 :' )if len(x)<=3 else (x[2] if x[2].startswith(\"성별 :\") else ( x[3] if x[3].startswith(\"성별 :\") else ( x[4] if x[4].startswith(\"성별 :\") else '성별 : '))))"
   ]
  },
  {
   "cell_type": "code",
   "execution_count": 71,
   "metadata": {},
   "outputs": [
    {
     "name": "stderr",
     "output_type": "stream",
     "text": [
      "C:\\Users\\jsyu\\AppData\\Local\\Temp\\ipykernel_16112\\2620012714.py:1: SettingWithCopyWarning: \n",
      "A value is trying to be set on a copy of a slice from a DataFrame.\n",
      "Try using .loc[row_indexer,col_indexer] = value instead\n",
      "\n",
      "See the caveats in the documentation: https://pandas.pydata.org/pandas-docs/stable/user_guide/indexing.html#returning-a-view-versus-a-copy\n",
      "  df['job'] = df.detail.apply(lambda x : (x[2] if x[2].startswith(\"직업 :\") else '직업 :' )if len(x)<=3 else (x[2] if x[2].startswith(\"직업 :\") else ( x[3] if x[3].startswith(\"직업 :\") else ( x[4] if x[4].startswith(\"직업 :\") else '직업 : '))))\n"
     ]
    }
   ],
   "source": [
    "df['job'] = df.detail.apply(lambda x : (x[2] if x[2].startswith(\"직업 :\") else '직업 :' )if len(x)<=3 else (x[2] if x[2].startswith(\"직업 :\") else ( x[3] if x[3].startswith(\"직업 :\") else ( x[4] if x[4].startswith(\"직업 :\") else '직업 : '))))"
   ]
  },
  {
   "cell_type": "code",
   "execution_count": 72,
   "metadata": {},
   "outputs": [
    {
     "data": {
      "text/html": [
       "<div>\n",
       "<style scoped>\n",
       "    .dataframe tbody tr th:only-of-type {\n",
       "        vertical-align: middle;\n",
       "    }\n",
       "\n",
       "    .dataframe tbody tr th {\n",
       "        vertical-align: top;\n",
       "    }\n",
       "\n",
       "    .dataframe thead th {\n",
       "        text-align: right;\n",
       "    }\n",
       "</style>\n",
       "<table border=\"1\" class=\"dataframe\">\n",
       "  <thead>\n",
       "    <tr style=\"text-align: right;\">\n",
       "      <th></th>\n",
       "      <th>authors</th>\n",
       "      <th>detail</th>\n",
       "      <th>born</th>\n",
       "      <th>death</th>\n",
       "      <th>born_area</th>\n",
       "      <th>sex</th>\n",
       "      <th>job</th>\n",
       "    </tr>\n",
       "  </thead>\n",
       "  <tbody>\n",
       "    <tr>\n",
       "      <th>0</th>\n",
       "      <td>나예리</td>\n",
       "      <td>[출생지 : , 성별 : 여자, 직업 : 만화가]</td>\n",
       "      <td>출생 :</td>\n",
       "      <td>사망 :</td>\n",
       "      <td>출생지 :</td>\n",
       "      <td>성별 : 여자</td>\n",
       "      <td>직업 : 만화가</td>\n",
       "    </tr>\n",
       "    <tr>\n",
       "      <th>1</th>\n",
       "      <td>이문열</td>\n",
       "      <td>[출생 : 1948년 06월 24일, 출생지 : 서울특별시, 성별 : 남자, 직업 ...</td>\n",
       "      <td>출생 : 1948년 06월 24일</td>\n",
       "      <td>사망 :</td>\n",
       "      <td>출생지 : 서울특별시</td>\n",
       "      <td>성별 : 남자</td>\n",
       "      <td>직업 : 소설가</td>\n",
       "    </tr>\n",
       "    <tr>\n",
       "      <th>2</th>\n",
       "      <td>조애너 콜</td>\n",
       "      <td>[출생 : 1944년 08월 11일, 사망 : 2020년 07월 12일, 출생지 :...</td>\n",
       "      <td>출생 : 1944년 08월 11일</td>\n",
       "      <td>사망 : 2020년 07월 12일</td>\n",
       "      <td>출생지 : 미국 뉴저지</td>\n",
       "      <td>성별 : 여자</td>\n",
       "      <td>직업 : 어린이 작가</td>\n",
       "    </tr>\n",
       "    <tr>\n",
       "      <th>4</th>\n",
       "      <td>이호백</td>\n",
       "      <td>[출생 : 1962년 출생, 출생지 : 서울, 성별 : 남자, 직업 : 화가, 출판...</td>\n",
       "      <td>출생 : 1962년 출생</td>\n",
       "      <td>사망 :</td>\n",
       "      <td>출생지 : 서울</td>\n",
       "      <td>성별 : 남자</td>\n",
       "      <td>직업 : 화가, 출판사대표</td>\n",
       "    </tr>\n",
       "    <tr>\n",
       "      <th>5</th>\n",
       "      <td>권정생</td>\n",
       "      <td>[출생 : 1937년 09월 10일, 사망 : 2007년 05월 17일, 출생지 :...</td>\n",
       "      <td>출생 : 1937년 09월 10일</td>\n",
       "      <td>사망 : 2007년 05월 17일</td>\n",
       "      <td>출생지 : 일본 도쿄</td>\n",
       "      <td>성별 : 남자</td>\n",
       "      <td>직업 : 아동문학가</td>\n",
       "    </tr>\n",
       "    <tr>\n",
       "      <th>...</th>\n",
       "      <td>...</td>\n",
       "      <td>...</td>\n",
       "      <td>...</td>\n",
       "      <td>...</td>\n",
       "      <td>...</td>\n",
       "      <td>...</td>\n",
       "      <td>...</td>\n",
       "    </tr>\n",
       "    <tr>\n",
       "      <th>51181</th>\n",
       "      <td>메인 스트릿</td>\n",
       "      <td>[출생지 : , 성별 : , 직업 : ]</td>\n",
       "      <td>출생 :</td>\n",
       "      <td>사망 :</td>\n",
       "      <td>출생지 :</td>\n",
       "      <td>성별 :</td>\n",
       "      <td>직업 :</td>\n",
       "    </tr>\n",
       "    <tr>\n",
       "      <th>51182</th>\n",
       "      <td>로맨틱 카우치 (Romantic Couch)</td>\n",
       "      <td>[출생지 : , 성별 : , 직업 : ]</td>\n",
       "      <td>출생 :</td>\n",
       "      <td>사망 :</td>\n",
       "      <td>출생지 :</td>\n",
       "      <td>성별 :</td>\n",
       "      <td>직업 :</td>\n",
       "    </tr>\n",
       "    <tr>\n",
       "      <th>51183</th>\n",
       "      <td>한예슬</td>\n",
       "      <td>[출생지 : , 성별 : , 직업 : ]</td>\n",
       "      <td>출생 :</td>\n",
       "      <td>사망 :</td>\n",
       "      <td>출생지 :</td>\n",
       "      <td>성별 :</td>\n",
       "      <td>직업 :</td>\n",
       "    </tr>\n",
       "    <tr>\n",
       "      <th>51184</th>\n",
       "      <td>오지호</td>\n",
       "      <td>[출생 : 1976년 04월 14일, 출생지 : 한국, 성별 : , 직업 : 배우]</td>\n",
       "      <td>출생 : 1976년 04월 14일</td>\n",
       "      <td>사망 :</td>\n",
       "      <td>출생지 : 한국</td>\n",
       "      <td>성별 :</td>\n",
       "      <td>직업 : 배우</td>\n",
       "    </tr>\n",
       "    <tr>\n",
       "      <th>51185</th>\n",
       "      <td>박한별</td>\n",
       "      <td>[출생 : 1984년 11월 17일, 출생지 : 서울, 성별 : 여자, 직업 : 배우]</td>\n",
       "      <td>출생 : 1984년 11월 17일</td>\n",
       "      <td>사망 :</td>\n",
       "      <td>출생지 : 서울</td>\n",
       "      <td>성별 : 여자</td>\n",
       "      <td>직업 : 배우</td>\n",
       "    </tr>\n",
       "  </tbody>\n",
       "</table>\n",
       "<p>23033 rows × 7 columns</p>\n",
       "</div>"
      ],
      "text/plain": [
       "                        authors  \\\n",
       "0                           나예리   \n",
       "1                           이문열   \n",
       "2                         조애너 콜   \n",
       "4                           이호백   \n",
       "5                           권정생   \n",
       "...                         ...   \n",
       "51181                    메인 스트릿   \n",
       "51182  로맨틱 카우치 (Romantic Couch)   \n",
       "51183                       한예슬   \n",
       "51184                       오지호   \n",
       "51185                       박한별   \n",
       "\n",
       "                                                  detail                born  \\\n",
       "0                            [출생지 : , 성별 : 여자, 직업 : 만화가]               출생 :    \n",
       "1      [출생 : 1948년 06월 24일, 출생지 : 서울특별시, 성별 : 남자, 직업 ...  출생 : 1948년 06월 24일   \n",
       "2      [출생 : 1944년 08월 11일, 사망 : 2020년 07월 12일, 출생지 :...  출생 : 1944년 08월 11일   \n",
       "4      [출생 : 1962년 출생, 출생지 : 서울, 성별 : 남자, 직업 : 화가, 출판...       출생 : 1962년 출생   \n",
       "5      [출생 : 1937년 09월 10일, 사망 : 2007년 05월 17일, 출생지 :...  출생 : 1937년 09월 10일   \n",
       "...                                                  ...                 ...   \n",
       "51181                             [출생지 : , 성별 : , 직업 : ]               출생 :    \n",
       "51182                             [출생지 : , 성별 : , 직업 : ]               출생 :    \n",
       "51183                             [출생지 : , 성별 : , 직업 : ]               출생 :    \n",
       "51184     [출생 : 1976년 04월 14일, 출생지 : 한국, 성별 : , 직업 : 배우]  출생 : 1976년 04월 14일   \n",
       "51185   [출생 : 1984년 11월 17일, 출생지 : 서울, 성별 : 여자, 직업 : 배우]  출생 : 1984년 11월 17일   \n",
       "\n",
       "                    death     born_area      sex             job  \n",
       "0                   사망 :         출생지 :   성별 : 여자        직업 : 만화가  \n",
       "1                   사망 :    출생지 : 서울특별시  성별 : 남자        직업 : 소설가  \n",
       "2      사망 : 2020년 07월 12일  출생지 : 미국 뉴저지  성별 : 여자     직업 : 어린이 작가  \n",
       "4                   사망 :       출생지 : 서울  성별 : 남자  직업 : 화가, 출판사대표  \n",
       "5      사망 : 2007년 05월 17일   출생지 : 일본 도쿄  성별 : 남자      직업 : 아동문학가  \n",
       "...                   ...           ...      ...             ...  \n",
       "51181               사망 :         출생지 :     성별 :            직업 :   \n",
       "51182               사망 :         출생지 :     성별 :            직업 :   \n",
       "51183               사망 :         출생지 :     성별 :            직업 :   \n",
       "51184               사망 :       출생지 : 한국    성별 :          직업 : 배우  \n",
       "51185               사망 :       출생지 : 서울  성별 : 여자         직업 : 배우  \n",
       "\n",
       "[23033 rows x 7 columns]"
      ]
     },
     "execution_count": 72,
     "metadata": {},
     "output_type": "execute_result"
    }
   ],
   "source": [
    "df"
   ]
  },
  {
   "cell_type": "code",
   "execution_count": 73,
   "metadata": {},
   "outputs": [],
   "source": [
    "df.to_csv('author_detail.csv',index=False)"
   ]
  },
  {
   "cell_type": "code",
   "execution_count": null,
   "metadata": {},
   "outputs": [],
   "source": []
  }
 ],
 "metadata": {
  "colab": {
   "collapsed_sections": [],
   "name": "spotify_chart_weekly_scraper.ipynb",
   "provenance": []
  },
  "kernelspec": {
   "display_name": "Python 3 (ipykernel)",
   "language": "python",
   "name": "python3"
  },
  "language_info": {
   "codemirror_mode": {
    "name": "ipython",
    "version": 3
   },
   "file_extension": ".py",
   "mimetype": "text/x-python",
   "name": "python",
   "nbconvert_exporter": "python",
   "pygments_lexer": "ipython3",
   "version": "3.10.4"
  }
 },
 "nbformat": 4,
 "nbformat_minor": 1
}
